{
 "cells": [
  {
   "cell_type": "markdown",
   "id": "b2d9789e-3cac-42c3-9012-99ecc59276c1",
   "metadata": {},
   "source": [
    "# Build app"
   ]
  },
  {
   "cell_type": "code",
   "execution_count": 1,
   "id": "861cc7e9-d6fc-458d-bcb5-75f080ee7871",
   "metadata": {
    "tags": []
   },
   "outputs": [
    {
     "data": {
      "text/plain": [
       "'https://data.cma.gov.uk/leda/user/AlexGill/sandbox/proxy/8080/'"
      ]
     },
     "execution_count": 1,
     "metadata": {},
     "output_type": "execute_result"
    }
   ],
   "source": [
    "instance = !echo $JUPYTERHUB_SERVICE_PREFIX\n",
    "\"https://data.cma.gov.uk\" + instance[0] + \"proxy/\" + \"8080/\""
   ]
  },
  {
   "cell_type": "code",
   "execution_count": null,
   "id": "8997a338-56e2-4d9f-8416-9ae01cb701cc",
   "metadata": {
    "tags": []
   },
   "outputs": [
    {
     "name": "stdout",
     "output_type": "stream",
     "text": [
      "\n",
      "Collecting usage statistics. To deactivate, set browser.gatherUsageStats to False.\n",
      "\u001b[0m\n",
      "\u001b[0m\n",
      "\u001b[34m\u001b[1m  You can now view your Streamlit app in your browser.\u001b[0m\n",
      "\u001b[0m\n",
      "\u001b[34m  Network URL: \u001b[0m\u001b[1mhttp://10.222.106.246:8080\u001b[0m\n",
      "\u001b[34m  External URL: \u001b[0m\u001b[1mhttp://3.9.27.157:8080\u001b[0m\n",
      "\u001b[0m\n",
      "2023-07-28 10:10:54.636 Uncaught app exception\n",
      "Traceback (most recent call last):\n",
      "  File \"/home/ubuntu/miniconda/envs/py39/lib/python3.9/site-packages/streamlit/runtime/scriptrunner/script_runner.py\", line 552, in _run_script\n",
      "    exec(code, module.__dict__)\n",
      "  File \"/notebooks/evidence-house-gen-ai-hackathon-team-2/front.py\", line 126, in <module>\n",
      "    if new_input_text!=\"\":\n",
      "NameError: name 'new_input_text' is not defined\n",
      "2023-07-28 10:16:46.369 Uncaught app exception\n",
      "Traceback (most recent call last):\n",
      "  File \"/home/ubuntu/miniconda/envs/py39/lib/python3.9/site-packages/streamlit/runtime/scriptrunner/script_runner.py\", line 552, in _run_script\n",
      "    exec(code, module.__dict__)\n",
      "  File \"/notebooks/evidence-house-gen-ai-hackathon-team-2/front.py\", line 131, in <module>\n",
      "    if st.button('Generate applicants'):\n",
      "  File \"/home/ubuntu/miniconda/envs/py39/lib/python3.9/site-packages/streamlit/runtime/metrics_util.py\", line 356, in wrapped_func\n",
      "    result = non_optional_func(*args, **kwargs)\n",
      "  File \"/home/ubuntu/miniconda/envs/py39/lib/python3.9/site-packages/streamlit/elements/button.py\", line 155, in button\n",
      "    return self.dg._button(\n",
      "  File \"/home/ubuntu/miniconda/envs/py39/lib/python3.9/site-packages/streamlit/elements/button.py\", line 429, in _button\n",
      "    button_state = register_widget(\n",
      "  File \"/home/ubuntu/miniconda/envs/py39/lib/python3.9/site-packages/streamlit/runtime/state/widgets.py\", line 164, in register_widget\n",
      "    return register_widget_from_metadata(metadata, ctx, widget_func_name, element_type)\n",
      "  File \"/home/ubuntu/miniconda/envs/py39/lib/python3.9/site-packages/streamlit/runtime/state/widgets.py\", line 209, in register_widget_from_metadata\n",
      "    raise DuplicateWidgetID(\n",
      "streamlit.errors.DuplicateWidgetID: There are multiple identical `st.button` widgets with the\n",
      "same generated key.\n",
      "\n",
      "When a widget is created, it's assigned an internal key based on\n",
      "its structure. Multiple widgets with an identical structure will\n",
      "result in the same internal key, which causes this error.\n",
      "\n",
      "To fix this error, please pass a unique `key` argument to\n",
      "`st.button`.\n",
      "2023-07-28 10:16:46.637 Uncaught app exception\n",
      "Traceback (most recent call last):\n",
      "  File \"/home/ubuntu/miniconda/envs/py39/lib/python3.9/site-packages/streamlit/runtime/scriptrunner/script_runner.py\", line 552, in _run_script\n",
      "    exec(code, module.__dict__)\n",
      "  File \"/notebooks/evidence-house-gen-ai-hackathon-team-2/front.py\", line 131, in <module>\n",
      "    if st.button('Generate applicants'):\n",
      "  File \"/home/ubuntu/miniconda/envs/py39/lib/python3.9/site-packages/streamlit/runtime/metrics_util.py\", line 356, in wrapped_func\n",
      "    result = non_optional_func(*args, **kwargs)\n",
      "  File \"/home/ubuntu/miniconda/envs/py39/lib/python3.9/site-packages/streamlit/elements/button.py\", line 155, in button\n",
      "    return self.dg._button(\n",
      "  File \"/home/ubuntu/miniconda/envs/py39/lib/python3.9/site-packages/streamlit/elements/button.py\", line 429, in _button\n",
      "    button_state = register_widget(\n",
      "  File \"/home/ubuntu/miniconda/envs/py39/lib/python3.9/site-packages/streamlit/runtime/state/widgets.py\", line 164, in register_widget\n",
      "    return register_widget_from_metadata(metadata, ctx, widget_func_name, element_type)\n",
      "  File \"/home/ubuntu/miniconda/envs/py39/lib/python3.9/site-packages/streamlit/runtime/state/widgets.py\", line 209, in register_widget_from_metadata\n",
      "    raise DuplicateWidgetID(\n",
      "streamlit.errors.DuplicateWidgetID: There are multiple identical `st.button` widgets with the\n",
      "same generated key.\n",
      "\n",
      "When a widget is created, it's assigned an internal key based on\n",
      "its structure. Multiple widgets with an identical structure will\n",
      "result in the same internal key, which causes this error.\n",
      "\n",
      "To fix this error, please pass a unique `key` argument to\n",
      "`st.button`.\n"
     ]
    }
   ],
   "source": [
    "!streamlit run front.py --server.port 8080"
   ]
  }
 ],
 "metadata": {
  "kernelspec": {
   "display_name": "Python 3.9",
   "language": "python",
   "name": "py39"
  },
  "language_info": {
   "codemirror_mode": {
    "name": "ipython",
    "version": 3
   },
   "file_extension": ".py",
   "mimetype": "text/x-python",
   "name": "python",
   "nbconvert_exporter": "python",
   "pygments_lexer": "ipython3",
   "version": "3.9.16"
  }
 },
 "nbformat": 4,
 "nbformat_minor": 5
}
