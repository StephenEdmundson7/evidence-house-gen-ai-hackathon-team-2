{
 "cells": [
  {
   "cell_type": "markdown",
   "id": "b2d9789e-3cac-42c3-9012-99ecc59276c1",
   "metadata": {},
   "source": [
    "# Build app"
   ]
  },
  {
   "cell_type": "code",
   "execution_count": 1,
   "id": "861cc7e9-d6fc-458d-bcb5-75f080ee7871",
   "metadata": {
    "tags": []
   },
   "outputs": [
    {
     "data": {
      "text/plain": [
       "'https://data.cma.gov.uk/leda/user/AlexGill/sandbox/proxy/8080/'"
      ]
     },
     "execution_count": 1,
     "metadata": {},
     "output_type": "execute_result"
    }
   ],
   "source": [
    "instance = !echo $JUPYTERHUB_SERVICE_PREFIX\n",
    "\"https://data.cma.gov.uk\" + instance[0] + \"proxy/\" + \"8080/\""
   ]
  },
  {
   "cell_type": "code",
   "execution_count": null,
   "id": "8997a338-56e2-4d9f-8416-9ae01cb701cc",
   "metadata": {
    "tags": []
   },
   "outputs": [
    {
     "name": "stdout",
     "output_type": "stream",
     "text": [
      "\n",
      "Collecting usage statistics. To deactivate, set browser.gatherUsageStats to False.\n",
      "\u001b[0m\n",
      "\u001b[0m\n",
      "\u001b[34m\u001b[1m  You can now view your Streamlit app in your browser.\u001b[0m\n",
      "\u001b[0m\n",
      "\u001b[34m  Network URL: \u001b[0m\u001b[1mhttp://10.222.124.46:8080\u001b[0m\n",
      "\u001b[34m  External URL: \u001b[0m\u001b[1mhttp://3.9.27.157:8080\u001b[0m\n",
      "\u001b[0m\n"
     ]
    }
   ],
   "source": [
    "!streamlit run app.py --server.port 8080"
   ]
  }
 ],
 "metadata": {
  "kernelspec": {
   "display_name": "Python 3.9",
   "language": "python",
   "name": "py39"
  },
  "language_info": {
   "codemirror_mode": {
    "name": "ipython",
    "version": 3
   },
   "file_extension": ".py",
   "mimetype": "text/x-python",
   "name": "python",
   "nbconvert_exporter": "python",
   "pygments_lexer": "ipython3",
   "version": "3.9.16"
  }
 },
 "nbformat": 4,
 "nbformat_minor": 5
}
