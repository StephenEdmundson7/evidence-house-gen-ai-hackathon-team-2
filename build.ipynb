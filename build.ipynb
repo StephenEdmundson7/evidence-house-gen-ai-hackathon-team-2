{
 "cells": [
  {
   "cell_type": "markdown",
   "id": "b2d9789e-3cac-42c3-9012-99ecc59276c1",
   "metadata": {},
   "source": [
    "# Build app"
   ]
  },
  {
   "cell_type": "code",
   "execution_count": 1,
   "id": "861cc7e9-d6fc-458d-bcb5-75f080ee7871",
   "metadata": {
    "tags": []
   },
   "outputs": [
    {
     "data": {
      "text/plain": [
       "'https://data.cma.gov.uk/leda/user/AlexGill/sandbox/proxy/8080/'"
      ]
     },
     "execution_count": 1,
     "metadata": {},
     "output_type": "execute_result"
    }
   ],
   "source": [
    "instance = !echo $JUPYTERHUB_SERVICE_PREFIX\n",
    "\"https://data.cma.gov.uk\" + instance[0] + \"proxy/\" + \"8080/\""
   ]
  },
  {
   "cell_type": "code",
   "execution_count": null,
   "id": "8997a338-56e2-4d9f-8416-9ae01cb701cc",
   "metadata": {
    "tags": []
   },
   "outputs": [
    {
     "name": "stdout",
     "output_type": "stream",
     "text": [
      "\n",
      "Collecting usage statistics. To deactivate, set browser.gatherUsageStats to False.\n",
      "\u001b[0m\n",
      "\u001b[0m\n",
      "\u001b[34m\u001b[1m  You can now view your Streamlit app in your browser.\u001b[0m\n",
      "\u001b[0m\n",
      "\u001b[34m  Network URL: \u001b[0m\u001b[1mhttp://10.222.106.246:8080\u001b[0m\n",
      "\u001b[34m  External URL: \u001b[0m\u001b[1mhttp://3.9.27.157:8080\u001b[0m\n",
      "\u001b[0m\n",
      "2023-07-28 09:06:04.938 Uncaught app exception\n",
      "Traceback (most recent call last):\n",
      "  File \"/home/ubuntu/miniconda/envs/py39/lib/python3.9/site-packages/streamlit/runtime/scriptrunner/script_runner.py\", line 552, in _run_script\n",
      "    exec(code, module.__dict__)\n",
      "  File \"/notebooks/evidence-house-gen-ai-hackathon-team-2/front.py\", line 88, in <module>\n",
      "    skills_summary = pd.DataFrame(ast.literal_eval(skills_summary)).sort_values(by=\"number_of_candidates_with_skill\",\n",
      "  File \"/home/ubuntu/miniconda/envs/py39/lib/python3.9/site-packages/pandas/core/frame.py\", line 709, in __init__\n",
      "    mgr = dict_to_mgr(data, index, columns, dtype=dtype, copy=copy, typ=manager)\n",
      "  File \"/home/ubuntu/miniconda/envs/py39/lib/python3.9/site-packages/pandas/core/internals/construction.py\", line 481, in dict_to_mgr\n",
      "    return arrays_to_mgr(arrays, columns, index, dtype=dtype, typ=typ, consolidate=copy)\n",
      "  File \"/home/ubuntu/miniconda/envs/py39/lib/python3.9/site-packages/pandas/core/internals/construction.py\", line 115, in arrays_to_mgr\n",
      "    index = _extract_index(arrays)\n",
      "  File \"/home/ubuntu/miniconda/envs/py39/lib/python3.9/site-packages/pandas/core/internals/construction.py\", line 655, in _extract_index\n",
      "    raise ValueError(\"All arrays must be of the same length\")\n",
      "ValueError: All arrays must be of the same length\n"
     ]
    }
   ],
   "source": [
    "!streamlit run front.py --server.port 8080"
   ]
  }
 ],
 "metadata": {
  "kernelspec": {
   "display_name": "Python 3.9",
   "language": "python",
   "name": "py39"
  },
  "language_info": {
   "codemirror_mode": {
    "name": "ipython",
    "version": 3
   },
   "file_extension": ".py",
   "mimetype": "text/x-python",
   "name": "python",
   "nbconvert_exporter": "python",
   "pygments_lexer": "ipython3",
   "version": "3.9.16"
  }
 },
 "nbformat": 4,
 "nbformat_minor": 5
}
