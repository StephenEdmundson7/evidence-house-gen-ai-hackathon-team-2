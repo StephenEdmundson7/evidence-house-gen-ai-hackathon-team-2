{
 "cells": [
  {
   "cell_type": "markdown",
   "id": "a5bd6fe3-1a1f-4bdf-9b11-ed88ee26d248",
   "metadata": {},
   "source": [
    "## Experimenting with visualisations for the output"
   ]
  },
  {
   "cell_type": "code",
   "execution_count": 29,
   "id": "83fdac0e-a0d9-4488-9383-57e1f6e3e6ac",
   "metadata": {
    "tags": []
   },
   "outputs": [],
   "source": [
    "import streamlit as st\n",
    "import pandas as pd"
   ]
  },
  {
   "cell_type": "code",
   "execution_count": 32,
   "id": "c66b6560-22e0-4afe-9601-fde30541a29f",
   "metadata": {
    "tags": []
   },
   "outputs": [],
   "source": [
    "llm_output = {\"experience\": [1,3,5,6,3,5,2],\n",
    "             \"skills\": [[\"python\", \"r\", \"sql\", \"leadership\"],\n",
    "                        [\"communication\", \"julia\", \"ml\"],\n",
    "                        [\"python\", \"ml\", \"management\"]\n",
    "                       ]\n",
    "            }"
   ]
  },
  {
   "cell_type": "code",
   "execution_count": 47,
   "id": "63ddda5c-6d50-4e1f-a82d-2ca2df9833eb",
   "metadata": {
    "tags": []
   },
   "outputs": [],
   "source": [
    "def get_skills(skills_lists):\n",
    "    skills = [s for sublist in skills_lists for s in sublist]\n",
    "    skills_counts = pd.Series(skills).value_counts().reset_index()\n",
    "    skills_counts.columns = [\"skill\", \"n_candidates\"]\n",
    "    return skills_counts"
   ]
  },
  {
   "cell_type": "code",
   "execution_count": 48,
   "id": "f0ab99eb-2539-4abc-9c68-0d4f87eed127",
   "metadata": {
    "tags": []
   },
   "outputs": [],
   "source": [
    "skills_lists = llm_output[\"skills\"]\n",
    "skills_table = get_skills(skills_lists)"
   ]
  },
  {
   "cell_type": "code",
   "execution_count": 49,
   "id": "c99c2fcc-be52-441d-b0b4-2d47afac3e85",
   "metadata": {
    "tags": []
   },
   "outputs": [
    {
     "data": {
      "text/html": [
       "<div>\n",
       "<style scoped>\n",
       "    .dataframe tbody tr th:only-of-type {\n",
       "        vertical-align: middle;\n",
       "    }\n",
       "\n",
       "    .dataframe tbody tr th {\n",
       "        vertical-align: top;\n",
       "    }\n",
       "\n",
       "    .dataframe thead th {\n",
       "        text-align: right;\n",
       "    }\n",
       "</style>\n",
       "<table border=\"1\" class=\"dataframe\">\n",
       "  <thead>\n",
       "    <tr style=\"text-align: right;\">\n",
       "      <th></th>\n",
       "      <th>skill</th>\n",
       "      <th>n_candidates</th>\n",
       "    </tr>\n",
       "  </thead>\n",
       "  <tbody>\n",
       "    <tr>\n",
       "      <th>0</th>\n",
       "      <td>python</td>\n",
       "      <td>2</td>\n",
       "    </tr>\n",
       "    <tr>\n",
       "      <th>1</th>\n",
       "      <td>ml</td>\n",
       "      <td>2</td>\n",
       "    </tr>\n",
       "    <tr>\n",
       "      <th>2</th>\n",
       "      <td>r</td>\n",
       "      <td>1</td>\n",
       "    </tr>\n",
       "    <tr>\n",
       "      <th>3</th>\n",
       "      <td>sql</td>\n",
       "      <td>1</td>\n",
       "    </tr>\n",
       "    <tr>\n",
       "      <th>4</th>\n",
       "      <td>leadership</td>\n",
       "      <td>1</td>\n",
       "    </tr>\n",
       "    <tr>\n",
       "      <th>5</th>\n",
       "      <td>communication</td>\n",
       "      <td>1</td>\n",
       "    </tr>\n",
       "    <tr>\n",
       "      <th>6</th>\n",
       "      <td>julia</td>\n",
       "      <td>1</td>\n",
       "    </tr>\n",
       "    <tr>\n",
       "      <th>7</th>\n",
       "      <td>management</td>\n",
       "      <td>1</td>\n",
       "    </tr>\n",
       "  </tbody>\n",
       "</table>\n",
       "</div>"
      ],
      "text/plain": [
       "           skill  n_candidates\n",
       "0         python             2\n",
       "1             ml             2\n",
       "2              r             1\n",
       "3            sql             1\n",
       "4     leadership             1\n",
       "5  communication             1\n",
       "6          julia             1\n",
       "7     management             1"
      ]
     },
     "execution_count": 49,
     "metadata": {},
     "output_type": "execute_result"
    }
   ],
   "source": [
    "skills_table"
   ]
  },
  {
   "cell_type": "code",
   "execution_count": 54,
   "id": "5df15e0c-022f-44c0-aacf-5361499eb08d",
   "metadata": {
    "tags": []
   },
   "outputs": [],
   "source": [
    "def get_experience(experience_list):\n",
    "    data = pd.Series(experience_list, name=\"experience\")\n",
    "    fig = plt.hist(data)\n",
    "    plt.title('Applicant experience')\n",
    "    plt.xlabel(\"Years\")\n",
    "    return fig"
   ]
  },
  {
   "cell_type": "code",
   "execution_count": 55,
   "id": "231c5d23-0a89-4ff8-b727-e9f6eac314d0",
   "metadata": {
    "tags": []
   },
   "outputs": [
    {
     "data": {
      "image/png": "[encoded data removed]",
      "text/plain": [
       "<Figure size 640x480 with 1 Axes>"
      ]
     },
     "metadata": {},
     "output_type": "display_data"
    }
   ],
   "source": [
    "exp_plot = get_experience(llm_output[\"experience\"])"
   ]
  },
  {
   "cell_type": "code",
   "execution_count": 56,
   "id": "b1e8f58d-9a75-4725-baee-044ee0b522ab",
   "metadata": {
    "tags": []
   },
   "outputs": [
    {
     "data": {
      "text/plain": [
       "(array([1., 0., 1., 0., 2., 0., 0., 0., 2., 1.]),\n",
       " array([1. , 1.5, 2. , 2.5, 3. , 3.5, 4. , 4.5, 5. , 5.5, 6. ]),\n",
       " <BarContainer object of 10 artists>)"
      ]
     },
     "execution_count": 56,
     "metadata": {},
     "output_type": "execute_result"
    }
   ],
   "source": [
    "exp_plot"
   ]
  },
  {
   "cell_type": "code",
   "execution_count": null,
   "id": "78533db0-2ff7-4c47-bd38-1535fc1d2265",
   "metadata": {},
   "outputs": [],
   "source": []
  }
 ],
 "metadata": {
  "kernelspec": {
   "display_name": "Python 3.9",
   "language": "python",
   "name": "py39"
  },
  "language_info": {
   "codemirror_mode": {
    "name": "ipython",
    "version": 3
   },
   "file_extension": ".py",
   "mimetype": "text/x-python",
   "name": "python",
   "nbconvert_exporter": "python",
   "pygments_lexer": "ipython3",
   "version": "3.9.16"
  }
 },
 "nbformat": 4,
 "nbformat_minor": 5
}
